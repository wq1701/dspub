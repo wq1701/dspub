{
 "cells": [
  {
   "cell_type": "markdown",
   "id": "feeb93e8",
   "metadata": {},
   "source": [
    "Regex (***reg***ular ***ex***pression) is a tool to find the specific pattern of string within a string\n",
    "\n",
    "If we want to extract the leading number in a address string: 10 AURORA ST"
   ]
  },
  {
   "cell_type": "code",
   "execution_count": 100,
   "id": "15e4b0a9",
   "metadata": {},
   "outputs": [],
   "source": [
    "a = '10000 AURORA ST'"
   ]
  },
  {
   "cell_type": "code",
   "execution_count": 94,
   "id": "a385da68",
   "metadata": {},
   "outputs": [
    {
     "data": {
      "text/plain": [
       "'10'"
      ]
     },
     "execution_count": 94,
     "metadata": {},
     "output_type": "execute_result"
    }
   ],
   "source": [
    "a[0:2]"
   ]
  },
  {
   "cell_type": "code",
   "execution_count": 96,
   "id": "54e7bce1",
   "metadata": {},
   "outputs": [
    {
     "data": {
      "text/plain": [
       "'100'"
      ]
     },
     "execution_count": 96,
     "metadata": {},
     "output_type": "execute_result"
    }
   ],
   "source": [
    "a.split()[0]"
   ]
  },
  {
   "cell_type": "code",
   "execution_count": 97,
   "id": "86e0a823",
   "metadata": {},
   "outputs": [
    {
     "data": {
      "text/plain": [
       "['1', '0', '0']"
      ]
     },
     "execution_count": 97,
     "metadata": {},
     "output_type": "execute_result"
    }
   ],
   "source": [
    "import re\n",
    "\n",
    "pattern = re.compile(r'\\d')\n",
    "match = pattern.findall(a)\n",
    "match"
   ]
  },
  {
   "cell_type": "code",
   "execution_count": 99,
   "id": "d5cb33da",
   "metadata": {},
   "outputs": [
    {
     "data": {
      "text/plain": [
       "['100']"
      ]
     },
     "execution_count": 99,
     "metadata": {},
     "output_type": "execute_result"
    }
   ],
   "source": [
    "pattern = re.compile(r'\\d{3}')\n",
    "match = pattern.findall(a)\n",
    "match"
   ]
  },
  {
   "cell_type": "code",
   "execution_count": 101,
   "id": "bd53974b",
   "metadata": {},
   "outputs": [
    {
     "data": {
      "text/plain": [
       "['10000']"
      ]
     },
     "execution_count": 101,
     "metadata": {},
     "output_type": "execute_result"
    }
   ],
   "source": [
    "pattern = re.compile(r'\\d+') # one of more element \n",
    "match = pattern.findall(a)\n",
    "match"
   ]
  },
  {
   "cell_type": "code",
   "execution_count": 103,
   "id": "602e3b36",
   "metadata": {},
   "outputs": [],
   "source": [
    "a = '1161 21ST AVE sS'"
   ]
  },
  {
   "cell_type": "code",
   "execution_count": 109,
   "id": "78dd5f8a",
   "metadata": {},
   "outputs": [
    {
     "data": {
      "text/plain": [
       "['1161', '21']"
      ]
     },
     "execution_count": 109,
     "metadata": {},
     "output_type": "execute_result"
    }
   ],
   "source": [
    "pattern = re.compile(r'\\d+')\n",
    "match = pattern.findall(a)\n",
    "match"
   ]
  },
  {
   "cell_type": "code",
   "execution_count": 105,
   "id": "02e169e3",
   "metadata": {},
   "outputs": [
    {
     "data": {
      "text/plain": [
       "['1161 ']"
      ]
     },
     "execution_count": 105,
     "metadata": {},
     "output_type": "execute_result"
    }
   ],
   "source": [
    "pattern = re.compile(r'\\d+\\s')\n",
    "match = pattern.findall(a)\n",
    "match"
   ]
  },
  {
   "cell_type": "code",
   "execution_count": 106,
   "id": "f7401048",
   "metadata": {},
   "outputs": [
    {
     "data": {
      "text/plain": [
       "['1161']"
      ]
     },
     "execution_count": 106,
     "metadata": {},
     "output_type": "execute_result"
    }
   ],
   "source": [
    "pattern = re.compile(r'^\\d+')\n",
    "match = pattern.findall(a)\n",
    "match"
   ]
  },
  {
   "cell_type": "code",
   "execution_count": 108,
   "id": "54992f93",
   "metadata": {},
   "outputs": [
    {
     "data": {
      "text/plain": [
       "[]"
      ]
     },
     "execution_count": 108,
     "metadata": {},
     "output_type": "execute_result"
    }
   ],
   "source": [
    "pattern = re.compile(r'[A-Z]$')\n",
    "match = pattern.findall(a)\n",
    "match"
   ]
  },
  {
   "cell_type": "code",
   "execution_count": 120,
   "id": "74f384dd",
   "metadata": {},
   "outputs": [],
   "source": [
    "a = '407 S ORCHARD ST'\n",
    "b = '131 E CHELTEN AVE'\n",
    "c = '211 S 9TH ST'\n",
    "d = '211 S 9TH 99'"
   ]
  },
  {
   "cell_type": "code",
   "execution_count": 121,
   "id": "fa26a48f",
   "metadata": {},
   "outputs": [],
   "source": [
    "pattern = re.compile(r'(\\d+)\\s([A-Z])\\s([a-zA-Z0-9]+)\\s([a-zA-Z]+)')\n",
    "sub_address_a = pattern.sub(r'\\3',a)\n",
    "sub_address_b = pattern.sub(r'\\4',b)\n",
    "sub_address_c = pattern.sub(r'\\3',c)\n",
    "sub_address_d = pattern.sub(r'\\4',d)"
   ]
  },
  {
   "cell_type": "code",
   "execution_count": 122,
   "id": "caceaf0a",
   "metadata": {},
   "outputs": [
    {
     "data": {
      "text/plain": [
       "'9TH'"
      ]
     },
     "execution_count": 122,
     "metadata": {},
     "output_type": "execute_result"
    }
   ],
   "source": [
    "sub_address_c"
   ]
  },
  {
   "cell_type": "code",
   "execution_count": 123,
   "id": "c6ed1da5",
   "metadata": {},
   "outputs": [],
   "source": [
    "sub_address_a = pattern.sub(r'\\3',a)+ '-' + pattern.sub(r'\\4',a) + '-' + pattern.sub(r'\\2',a) + '-' + pattern.sub(r'\\1',a)"
   ]
  },
  {
   "cell_type": "code",
   "execution_count": 124,
   "id": "0d4aeda6",
   "metadata": {},
   "outputs": [
    {
     "data": {
      "text/plain": [
       "'ORCHARD-ST-S-407'"
      ]
     },
     "execution_count": 124,
     "metadata": {},
     "output_type": "execute_result"
    }
   ],
   "source": [
    "sub_address_a"
   ]
  },
  {
   "cell_type": "code",
   "execution_count": null,
   "id": "98e8fe91",
   "metadata": {},
   "outputs": [],
   "source": [
    "date = '1/2/2022'\n",
    "\n",
    "pattern = re.compile((r'^\\d{1,2})\\/(\\d{1,2})\\/(\\d{4})\\n')\n",
    "pattern = re.compile(^(10|11|12|[1-9])\\/(\\d{1,2})\\/(\\d{4})\\n)                     \n",
    "\n",
    "                     \n",
    "1/2/2022\n",
    "10/25/2022\n",
    "12/23/2022\n",
    "9/21/2022\n",
    "9/21/2022\n",
    "                     \n",
    "2022-9-1"
   ]
  },
  {
   "cell_type": "code",
   "execution_count": 76,
   "id": "2e47cc9d",
   "metadata": {},
   "outputs": [
    {
     "data": {
      "text/plain": [
       "'211 S 9TH 99'"
      ]
     },
     "execution_count": 76,
     "metadata": {},
     "output_type": "execute_result"
    }
   ],
   "source": [
    "sub_address_d"
   ]
  },
  {
   "cell_type": "code",
   "execution_count": 47,
   "id": "d71c3283",
   "metadata": {},
   "outputs": [
    {
     "name": "stdout",
     "output_type": "stream",
     "text": [
      "Match 1 was found at 1-18: 131 E CHELTEN AVE\n",
      "Group 1 found at 1-4: 131\n",
      "Group 2 found at 5-6: E\n",
      "Group 3 found at 7-14: CHELTEN\n",
      "Group 4 found at 15-18: AVE\n",
      "Match 2 was found at 19-31: 211 S 9TH ST\n",
      "Group 1 found at 19-22: 211\n",
      "Group 2 found at 23-24: S\n",
      "Group 3 found at 25-28: 9TH\n",
      "Group 4 found at 29-31: ST\n",
      "Match 3 was found at 61-77: 407 S ORCHARD ST\n",
      "Group 1 found at 61-64: 407\n",
      "Group 2 found at 65-66: S\n",
      "Group 3 found at 67-74: ORCHARD\n",
      "Group 4 found at 75-77: ST\n"
     ]
    }
   ],
   "source": [
    "import re\n",
    "\n",
    "regex = r\"(\\d+)\\s([A-Z])\\s([a-zA-Z0-9]+)\\s([a-zA-Z]+)\"\n",
    "regex = r\"(\\d+)\\s(E|S|W|N)\\s([a-zA-Z0-9]+)\\s([a-zA-Z]+)\"\n",
    "\n",
    "# test_str = (\"131 E CHELTEN AVE\"\n",
    "# \t\"211 S 9TH ST\"\n",
    "# \t\"407 S ORCHARD ST\"\n",
    "# \t\"211 S 9TH 99\")\n",
    "test_str = '''\n",
    "131 E CHELTEN AVE\n",
    "211 S 9TH ST\n",
    "211 S 9TH 99\n",
    "Null\n",
    "234S XX st\n",
    "407 S ORCHARD ST\n",
    "211 A 9TH ST'''\n",
    "\n",
    "matches = re.finditer(regex, test_str, re.MULTILINE)\n",
    "\n",
    "for matchNum, match in enumerate(matches, start=1):\n",
    "    \n",
    "    print (\"Match {matchNum} was found at {start}-{end}: {match}\".format(matchNum = matchNum, start = match.start(), end = match.end(), match = match.group()))\n",
    "    \n",
    "    for groupNum in range(0, len(match.groups())):\n",
    "        groupNum = groupNum + 1\n",
    "        \n",
    "        print (\"Group {groupNum} found at {start}-{end}: {group}\".format(groupNum = groupNum, start = match.start(groupNum), end = match.end(groupNum), group = match.group(groupNum)))\n",
    "\n",
    "# Note: for Python 2.7 compatibility, use ur\"\" to prefix the regex and u\"\" to prefix the test string and substitution."
   ]
  },
  {
   "cell_type": "markdown",
   "id": "ec7871f6",
   "metadata": {},
   "source": [
    "For the purposes of this assignment, a valid address begins with a positive integer and is followed by one or more words or abbreviations. The words or abbreviations must consist of only letters from the English alphabet, may only contain a capital letter as the first letter, and may or may not end in a period.\n"
   ]
  },
  {
   "cell_type": "code",
   "execution_count": 173,
   "id": "88923016",
   "metadata": {},
   "outputs": [
    {
     "name": "stdout",
     "output_type": "stream",
     "text": [
      "Match 1 was found at 0-18: 1189 Beall Avenue\n",
      "\n",
      "Group 1 found at 10-17:  Avenue\n",
      "Match 2 was found at 18-34: 123 S. Main St.\n",
      "\n",
      "Group 1 found at 29-33:  St.\n",
      "Match 3 was found at 34-42: 456 elm\n",
      "\n",
      "Group 1 found at 37-41:  elm\n",
      "Match 4 was found at 110-121: 12 S. Main\n",
      "\n",
      "Group 1 found at 115-120:  Main\n"
     ]
    }
   ],
   "source": [
    "# coding=utf8\n",
    "# the above tag defines encoding for this document and is for Python 2.x compatibility\n",
    "\n",
    "import re\n",
    "\n",
    "regex = r\"^\\d+( [A-Z]?[a-z.]*)+\\n\"\n",
    "\n",
    "test_str = '''1189 Beall Avenue\n",
    "123 S. Main St.\n",
    "456 elm\n",
    "Eight fifty two North Washington\n",
    "10 10 Springfield Lane\n",
    "14.5 S Main\n",
    "12 S. Main\n",
    "'''\n",
    "\n",
    "matches = re.finditer(regex, test_str, re.MULTILINE)\n",
    "\n",
    "for matchNum, match in enumerate(matches, start=1):\n",
    "    \n",
    "    print (\"Match {matchNum} was found at {start}-{end}: {match}\".format(matchNum = matchNum, start = match.start(), end = match.end(), match = match.group()))\n",
    "    \n",
    "    for groupNum in range(0, len(match.groups())):\n",
    "        groupNum = groupNum + 1\n",
    "        \n",
    "        print (\"Group {groupNum} found at {start}-{end}: {group}\".format(groupNum = groupNum, start = match.start(groupNum), end = match.end(groupNum), group = match.group(groupNum)))\n",
    "\n",
    "# Note: for Python 2.7 compatibility, use ur\"\" to prefix the regex and u\"\" to prefix the test string and substitution."
   ]
  },
  {
   "cell_type": "markdown",
   "id": "6e08859b",
   "metadata": {},
   "source": [
    "Here a valid price is a numeric value using the US dollar sign. The number of cents is optional, but there must be two digits if the cents are shown. For prices above $999.99, there may optionally be a comma separating thousands, millions, etc."
   ]
  },
  {
   "cell_type": "code",
   "execution_count": 175,
   "id": "7cddd616",
   "metadata": {
    "scrolled": true
   },
   "outputs": [
    {
     "name": "stdout",
     "output_type": "stream",
     "text": [
      "Match 1 was found at 1-4: $1\n",
      "\n",
      "Group 1 found at 2-3: 1\n",
      "Group 2 found at -1--1: None\n",
      "Group 3 found at -1--1: None\n",
      "Group 4 found at 2-3: 1\n",
      "Group 5 found at 3-4: \n",
      "\n",
      "Match 2 was found at 4-8: $20\n",
      "\n",
      "Group 1 found at 5-7: 20\n",
      "Group 2 found at -1--1: None\n",
      "Group 3 found at -1--1: None\n",
      "Group 4 found at 5-7: 20\n",
      "Group 5 found at 7-8: \n",
      "\n",
      "Match 3 was found at 8-13: $1.99\n",
      "Group 1 found at 9-10: 1\n",
      "Group 2 found at -1--1: None\n",
      "Group 3 found at -1--1: None\n",
      "Group 4 found at 9-10: 1\n",
      "Group 5 found at 10-13: .99\n",
      "Match 4 was found at 14-20: $10.00\n",
      "Group 1 found at 15-17: 10\n",
      "Group 2 found at -1--1: None\n",
      "Group 3 found at -1--1: None\n",
      "Group 4 found at 15-17: 10\n",
      "Group 5 found at 17-20: .00\n",
      "Match 5 was found at 21-29: $1500.50\n",
      "Group 1 found at 22-26: 1500\n",
      "Group 2 found at -1--1: None\n",
      "Group 3 found at -1--1: None\n",
      "Group 4 found at 22-26: 1500\n",
      "Group 5 found at 26-29: .50\n",
      "Match 6 was found at 30-52: $150000000000000000.50\n",
      "Group 1 found at 31-49: 150000000000000000\n",
      "Group 2 found at -1--1: None\n",
      "Group 3 found at -1--1: None\n",
      "Group 4 found at 31-49: 150000000000000000\n",
      "Group 5 found at 49-52: .50\n",
      "Match 7 was found at 53-62: $2,000.99\n",
      "Group 1 found at 54-59: 2,000\n",
      "Group 2 found at 54-56: 2,\n",
      "Group 3 found at 56-59: 000\n",
      "Group 4 found at -1--1: None\n",
      "Group 5 found at 59-62: .99\n",
      "Match 8 was found at 63-76: $1,234,567.89\n",
      "Group 1 found at 64-73: 1,234,567\n",
      "Group 2 found at 64-66: 1,\n",
      "Group 3 found at 70-73: 567\n",
      "Group 4 found at -1--1: None\n",
      "Group 5 found at 73-76: .89\n",
      "Match 9 was found at 104-119: $000,300,400.39\n",
      "Group 1 found at 105-116: 000,300,400\n",
      "Group 2 found at 105-109: 000,\n",
      "Group 3 found at 113-116: 400\n",
      "Group 4 found at -1--1: None\n",
      "Group 5 found at 116-119: .39\n"
     ]
    }
   ],
   "source": [
    "import re\n",
    "\n",
    "\n",
    "regex = r\"\\$((\\d+))(\\.\\d{2}|\\n)\"\n",
    "regex = r\"\\$((\\d{1,3},)(\\d{3},?)*|(\\d+))(\\.\\d{2}|\\n)\"\n",
    "regex = r\"\\$((\\d{1,3},)(\\d{3},)*(\\d{3})|(\\d+))(\\.\\d{2}|\\s)\"\n",
    "\n",
    "test_str = '''\n",
    "$1\n",
    "$20\n",
    "$1.99\n",
    "$10.00\n",
    "$1500.50\n",
    "$150000000000000000.50\n",
    "$200,000.99\n",
    "$1,234,567.89\n",
    "$1.9\n",
    "$10,23.4\n",
    "$1,02,567.89\n",
    "$000,300,400.39\n",
    "'''\n",
    "\n",
    "matches = re.finditer(regex, test_str, re.MULTILINE)\n",
    "\n",
    "for matchNum, match in enumerate(matches, start=1):\n",
    "    \n",
    "    print (\"Match {matchNum} was found at {start}-{end}: {match}\".format(matchNum = matchNum, start = match.start(), end = match.end(), match = match.group()))\n",
    "    \n",
    "    for groupNum in range(0, len(match.groups())):\n",
    "        groupNum = groupNum + 1\n",
    "        \n",
    "        print (\"Group {groupNum} found at {start}-{end}: {group}\".format(groupNum = groupNum, start = match.start(groupNum), end = match.end(groupNum), group = match.group(groupNum)))"
   ]
  },
  {
   "cell_type": "code",
   "execution_count": 176,
   "id": "d27c86f2",
   "metadata": {},
   "outputs": [
    {
     "name": "stdout",
     "output_type": "stream",
     "text": [
      "Match 1 was found at 1-20: nsommer@wooster.edu\n",
      "Group 1 found at 1-8: nsommer\n",
      "Group 2 found at 9-17: wooster.\n",
      "Group 3 found at -1--1: None\n",
      "Group 4 found at 17-20: edu\n",
      "Match 2 was found at 21-44: n.sommer@cs.wooster.edu\n",
      "Group 1 found at 21-29: n.sommer\n",
      "Group 2 found at 30-33: cs.\n",
      "Group 3 found at 33-41: wooster.\n",
      "Group 4 found at 41-44: edu\n",
      "Match 3 was found at 45-74: yippee_skippy@yee-haw.wheeeee\n",
      "Group 1 found at 45-58: yippee_skippy\n",
      "Group 2 found at 59-67: yee-haw.\n",
      "Group 3 found at -1--1: None\n",
      "Group 4 found at 67-74: wheeeee\n",
      "Match 4 was found at 75-108: fun-times@Taylor.hall.wooster.edu\n",
      "Group 1 found at 75-84: fun-times\n",
      "Group 2 found at 85-92: Taylor.\n",
      "Group 3 found at 97-105: wooster.\n",
      "Group 4 found at 105-108: edu\n"
     ]
    }
   ],
   "source": [
    "# coding=utf8\n",
    "# the above tag defines encoding for this document and is for Python 2.x compatibility\n",
    "\n",
    "import re\n",
    "\n",
    "regex = r\"(^[a-zA-Z0-9_.+-]+)@([a-zA-Z0-9-]+\\.)([a-zA-Z0-9]+\\.)*([a-zA-Z0-9]+)$\"\n",
    "\n",
    "test_str = '''\n",
    "nsommer@wooster.edu\n",
    "n.sommer@cs.wooster.edu\n",
    "yippee_skippy@yee-haw.wheeeee\n",
    "fun-times@Taylor.hall.wooster.edu\n",
    "n@sommer@wooster.edu\n",
    "n sommer@wooster.edu\n",
    "nsommer@wooster..edu\n",
    "nsommer@wooster.edu-org'''\n",
    "\n",
    "matches = re.finditer(regex, test_str, re.MULTILINE)\n",
    "\n",
    "for matchNum, match in enumerate(matches, start=1):\n",
    "    \n",
    "    print (\"Match {matchNum} was found at {start}-{end}: {match}\".format(matchNum = matchNum, start = match.start(), end = match.end(), match = match.group()))\n",
    "    \n",
    "    for groupNum in range(0, len(match.groups())):\n",
    "        groupNum = groupNum + 1\n",
    "        \n",
    "        print (\"Group {groupNum} found at {start}-{end}: {group}\".format(groupNum = groupNum, start = match.start(groupNum), end = match.end(groupNum), group = match.group(groupNum)))\n",
    "\n",
    "# Note: for Python 2.7 compatibility, use ur\"\" to prefix the regex and u\"\" to prefix the test string and substitution.\n"
   ]
  },
  {
   "cell_type": "markdown",
   "id": "8ced13b0",
   "metadata": {},
   "source": [
    "# Useful function\n",
    "\n",
    "match(): match regex only at the beginning of the string.\n",
    "\n",
    "search(): find the first match string\n",
    "\n",
    "findall(): find all matched string and return a list\n",
    "\n",
    "finditer(): find all matched string and return an iterator\n",
    "\n",
    "\n",
    "https://regex101.com/"
   ]
  },
  {
   "cell_type": "markdown",
   "id": "02158021",
   "metadata": {},
   "source": [
    "# Application in sql \n",
    "\n",
    "\n",
    "Ex: padexposur attribute has string value like '0  ', '1  ', '3  ', '4  ', '5+  '. \n",
    "\n",
    "However, I only want to keep rows whose paderposur value are not '5+  '\n",
    "\n",
    "The equivalent query will be:\n",
    "\n",
    "select distinct padexposur from prod_us9_516047.TEMP_B22161_PHR_NURTEC_RAWDATA where padexposur regexp '^[0-9][[:blank:]]'\n",
    "\n"
   ]
  },
  {
   "cell_type": "markdown",
   "id": "db7d2993",
   "metadata": {},
   "source": [
    "The unique attribute value are too little which make it possible to list all desire value\n",
    "\n",
    "What if unique attribute values are too much to list? Regex is the only solution"
   ]
  },
  {
   "cell_type": "code",
   "execution_count": null,
   "id": "ae38cdb2",
   "metadata": {},
   "outputs": [],
   "source": []
  }
 ],
 "metadata": {
  "kernelspec": {
   "display_name": "Python 3 (ipykernel)",
   "language": "python",
   "name": "python3"
  },
  "language_info": {
   "codemirror_mode": {
    "name": "ipython",
    "version": 3
   },
   "file_extension": ".py",
   "mimetype": "text/x-python",
   "name": "python",
   "nbconvert_exporter": "python",
   "pygments_lexer": "ipython3",
   "version": "3.9.7"
  }
 },
 "nbformat": 4,
 "nbformat_minor": 5
}
